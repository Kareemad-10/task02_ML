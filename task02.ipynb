{
 "cells": [
  {
   "cell_type": "markdown",
   "metadata": {},
   "source": [
    "### task02 : Classification problem using MNIST dataset."
   ]
  },
  {
   "cell_type": "code",
   "execution_count": 1,
   "metadata": {},
   "outputs": [],
   "source": [
    "# load MNIST Handwritten dataset.\n",
    "from sklearn.datasets import fetch_openml\n",
    "\n",
    "mnist = fetch_openml('mnist_784', version=1)"
   ]
  },
  {
   "cell_type": "code",
   "execution_count": 2,
   "metadata": {},
   "outputs": [
    {
     "data": {
      "text/plain": [
       "dict_keys(['data', 'target', 'frame', 'categories', 'feature_names', 'target_names', 'DESCR', 'details', 'url'])"
      ]
     },
     "execution_count": 2,
     "metadata": {},
     "output_type": "execute_result"
    }
   ],
   "source": [
    "# mnist downoaded is a dictionary including specific keys and their corresp. values like this:\n",
    "mnist.keys()"
   ]
  },
  {
   "cell_type": "code",
   "execution_count": 3,
   "metadata": {
    "scrolled": true
   },
   "outputs": [
    {
     "data": {
      "text/plain": [
       "((70000, 784), (70000,))"
      ]
     },
     "execution_count": 3,
     "metadata": {},
     "output_type": "execute_result"
    }
   ],
   "source": [
    "X, y = mnist['data'], mnist['target']\n",
    "X.shape, y.shape # data_X, labels_y"
   ]
  },
  {
   "cell_type": "code",
   "execution_count": 4,
   "metadata": {},
   "outputs": [],
   "source": [
    "# we aim to visualize an image\n",
    "import numpy as np\n",
    "import matplotlib as mpl\n",
    "from matplotlib import pyplot as plt\n",
    "%matplotlib inline\n",
    "sample_img = X[0]\n",
    "sample_img_ = sample_img.reshape(28, 28) # reshape our numpy array to become as an image of 2D."
   ]
  },
  {
   "cell_type": "code",
   "execution_count": 5,
   "metadata": {},
   "outputs": [
    {
     "data": {
      "image/png": "[encoded data removed]",
      "text/plain": [
       "<Figure size 432x288 with 1 Axes>"
      ]
     },
     "metadata": {
      "needs_background": "light"
     },
     "output_type": "display_data"
    },
    {
     "data": {
      "text/plain": [
       "'5'"
      ]
     },
     "execution_count": 5,
     "metadata": {},
     "output_type": "execute_result"
    }
   ],
   "source": [
    "plt.imshow(sample_img_, cmap = mpl.cm.binary, interpolation='nearest')\n",
    "plt.axis('off')\n",
    "plt.show()\n",
    "y[0]"
   ]
  },
  {
   "cell_type": "code",
   "execution_count": 6,
   "metadata": {},
   "outputs": [
    {
     "data": {
      "text/plain": [
       "5"
      ]
     },
     "execution_count": 6,
     "metadata": {},
     "output_type": "execute_result"
    }
   ],
   "source": [
    "# we noticed that our labels are strings, so we prefer to cast as numbers. to get better results.\n",
    "y = y.astype('uint8')\n",
    "y[0] # Done!"
   ]
  },
  {
   "cell_type": "code",
   "execution_count": 7,
   "metadata": {},
   "outputs": [],
   "source": [
    "# our MNIST_Handwritten dataset is already splitted and shuffeled for us into the fisrt 60000trainIMG, last 10000testIMG.\n",
    "X_train, X_test, y_train, y_test = X[:60000], X[60000:], y[: 60000], y[60000: ]"
   ]
  },
  {
   "cell_type": "code",
   "execution_count": 24,
   "metadata": {},
   "outputs": [
    {
     "data": {
      "text/plain": [
       "(60000,)"
      ]
     },
     "execution_count": 24,
     "metadata": {},
     "output_type": "execute_result"
    }
   ],
   "source": [
    "# let's start with a binary classifier to distinguish between the class of digit5 or not.\n",
    "# for simplicity for now, let's train a binary classifier to just recognize single class assume the first digit 5 if it's 5 or not.\n",
    "y_train_5 = (y_train==5)\n",
    "# y_train_5.shape\n",
    "y_test_5 = (y_test==5)"
   ]
  },
  {
   "cell_type": "code",
   "execution_count": 10,
   "metadata": {},
   "outputs": [
    {
     "data": {
      "text/plain": [
       "SGDClassifier(random_state=42)"
      ]
     },
     "execution_count": 10,
     "metadata": {},
     "output_type": "execute_result"
    }
   ],
   "source": [
    "# le't pick up the stochastic gradient descent SGD to start with brecause it has an ability to handle multipe classes effieciently.\n",
    "from sklearn.linear_model import SGDClassifier\n",
    "\n",
    "model_SGD = SGDClassifier(random_state=42) # to create reproducible results. --> we used the random_state variable.\n",
    "model_SGD.fit(X_train, y_train_5)"
   ]
  },
  {
   "cell_type": "code",
   "execution_count": 11,
   "metadata": {},
   "outputs": [
    {
     "data": {
      "text/plain": [
       "array([ True])"
      ]
     },
     "execution_count": 11,
     "metadata": {},
     "output_type": "execute_result"
    }
   ],
   "source": [
    "model_SGD.predict([X[0]])"
   ]
  },
  {
   "cell_type": "markdown",
   "metadata": {},
   "source": [
    "### We aim to compute the performance measure of our SGD Binary Classifier we measure the `accuracy`."
   ]
  },
  {
   "cell_type": "code",
   "execution_count": 12,
   "metadata": {},
   "outputs": [],
   "source": [
    "from sklearn.model_selection import cross_val_score\n",
    "\n",
    "SGD_score = cross_val_score(model_SGD, X_train, y_train_5, cv=3, scoring='accuracy') # because we have a classification problem."
   ]
  },
  {
   "cell_type": "code",
   "execution_count": 13,
   "metadata": {},
   "outputs": [
    {
     "data": {
      "text/plain": [
       "0.9570333333333334"
      ]
     },
     "execution_count": 13,
     "metadata": {},
     "output_type": "execute_result"
    }
   ],
   "source": [
    "SGD_score.mean()"
   ]
  },
  {
   "cell_type": "code",
   "execution_count": 14,
   "metadata": {},
   "outputs": [
    {
     "data": {
      "text/plain": [
       "array([[0., 0., 0., ..., 0., 0., 0.],\n",
       "       [0., 0., 0., ..., 0., 0., 0.],\n",
       "       [0., 0., 0., ..., 0., 0., 0.],\n",
       "       ...,\n",
       "       [0., 0., 0., ..., 0., 0., 0.],\n",
       "       [0., 0., 0., ..., 0., 0., 0.],\n",
       "       [0., 0., 0., ..., 0., 0., 0.]])"
      ]
     },
     "execution_count": 14,
     "metadata": {},
     "output_type": "execute_result"
    }
   ],
   "source": [
    "X_train"
   ]
  },
  {
   "cell_type": "markdown",
   "metadata": {},
   "source": [
    "### assume to have a dump classifier that always pridect it's `NOT-5` : Always False."
   ]
  },
  {
   "cell_type": "code",
   "execution_count": 15,
   "metadata": {},
   "outputs": [],
   "source": [
    "from sklearn.base import BaseEstimator\n",
    "\n",
    "class never5Class(BaseEstimator):\n",
    "      def fit(self, X, y=None): # it doesn't fit on any data at all.\n",
    "          pass\n",
    "      def predict(self, X): # predict method, doesn't get the labels as a parameter only the data\n",
    "          return np.zeros((len(X), 1), dtype=bool)  "
   ]
  },
  {
   "cell_type": "code",
   "execution_count": 16,
   "metadata": {},
   "outputs": [],
   "source": [
    "not5Class = never5Class()"
   ]
  },
  {
   "cell_type": "code",
   "execution_count": 17,
   "metadata": {},
   "outputs": [
    {
     "data": {
      "text/plain": [
       "0.90965"
      ]
     },
     "execution_count": 17,
     "metadata": {},
     "output_type": "execute_result"
    }
   ],
   "source": [
    "score_never5Class = cross_val_score(not5Class, X_train, y_train_5, cv=3, scoring='accuracy')\n",
    "score_never5Class.mean()"
   ]
  },
  {
   "cell_type": "markdown",
   "metadata": {},
   "source": [
    "As we can see in the above cell, that even if our model only predicts that every instance in our data\n",
    "is not class-5 i.e. it always generates the prediction as `False` we got an accuracy of above `90%` !\n",
    "\n",
    "This is because the % of examples that include actually the class-5 inn our training dataset is only 10%."
   ]
  },
  {
   "cell_type": "markdown",
   "metadata": {},
   "source": [
    "### For this reason, `accuracy` is always **not** a preferred performance measure with classification problems\n",
    "### because we may have skewed data in which some classes are not equally represented in the data examples\n",
    "For this reason, if our model always predicts that our data examples are not-5, it generates an accuracy of 90%, because class-5 represents only 10% of the data."
   ]
  },
  {
   "cell_type": "code",
   "execution_count": 25,
   "metadata": {},
   "outputs": [],
   "source": [
    "## to build the confusion matrix, we need to have a model predictions against the true labels. so we use cross_val_predict.\n",
    "from sklearn.model_selection import cross_val_predict\n",
    "\n",
    "SGD_classifier_predictions = cross_val_predict(model_SGD, X_train, y_train_5, cv=3) # here there's no a scoring criteria."
   ]
  },
  {
   "cell_type": "code",
   "execution_count": 26,
   "metadata": {},
   "outputs": [
    {
     "data": {
      "text/plain": [
       "array([[53892,   687],\n",
       "       [ 1891,  3530]], dtype=int64)"
      ]
     },
     "execution_count": 26,
     "metadata": {},
     "output_type": "execute_result"
    }
   ],
   "source": [
    "## it's the time to compute our confusion maatrix.\n",
    "from sklearn.metrics import confusion_matrix\n",
    "\n",
    "conf_mat = confusion_matrix(y_train_5, SGD_classifier_predictions)\n",
    "conf_mat"
   ]
  },
  {
   "cell_type": "code",
   "execution_count": 28,
   "metadata": {},
   "outputs": [
    {
     "data": {
      "text/plain": [
       "(0.8370879772350012, 0.6511713705958311, 0.7325171197343846)"
      ]
     },
     "execution_count": 28,
     "metadata": {},
     "output_type": "execute_result"
    }
   ],
   "source": [
    "# we aim to compute the classifier precision, recall\n",
    "from sklearn.metrics import precision_score, recall_score, f1_score\n",
    "\n",
    "precision_score(y_train_5, SGD_classifier_predictions), recall_score(y_train_5, SGD_classifier_predictions), f1_score(y_train_5, SGD_classifier_predictions)"
   ]
  },
  {
   "cell_type": "code",
   "execution_count": 27,
   "metadata": {},
   "outputs": [
    {
     "data": {
      "text/plain": [
       "array([[54579,     0],\n",
       "       [    0,  5421]], dtype=int64)"
      ]
     },
     "execution_count": 27,
     "metadata": {},
     "output_type": "execute_result"
    }
   ],
   "source": [
    "# let's pretend to have the perfect predictions. so: pretend=true_labels\n",
    "pretend_predictions = y_train_5\n",
    "conf_mat_ = confusion_matrix(pretend_predictions, y_train_5)\n",
    "conf_mat_ # so we have zeros on the right diagonal and non-zeros on the left main diagonal of the confusion matrix."
   ]
  },
  {
   "cell_type": "code",
   "execution_count": 30,
   "metadata": {},
   "outputs": [],
   "source": [
    "# we aim to tune the threshold to control the precision/recall in our classifier\n",
    "from sklearn.metrics import precision_recall_curve\n",
    "\n",
    "SGD_scores = cross_val_predict(model_SGD, X_train, y_train_5, cv=3, method='decision_function')\n",
    "# based on these classifier scores, we can compute the pre/recall curve for all possible thresholds\n",
    "precisions, recalls, thresholds = precision_recall_curve(y_train_5, SGD_scores)"
   ]
  },
  {
   "cell_type": "code",
   "execution_count": 302,
   "metadata": {},
   "outputs": [],
   "source": [
    "def precision_recall_curve_plot(precisions, recalls, thresholds):\n",
    "    # plot() is used for continous values\n",
    "    plt.plot(thresholds, precisions[:-1], 'r--', label='Precision')\n",
    "    plt.plot(thresholds, recalls[:-1], 'b-', label='recall')\n",
    "    plt.xlabel('Threshold')\n",
    "    plt.legend()\n",
    "    plt.grid()\n",
    "    plt.title('Precision - Recall Curve vs Threshold')\n",
    "    plt.figure(figsize=(25, 10))\n",
    "    plt.show()"
   ]
  },
  {
   "cell_type": "code",
   "execution_count": 303,
   "metadata": {},
   "outputs": [
    {
     "data": {
      "image/png": "[encoded data removed]",
      "text/plain": [
       "<Figure size 432x288 with 1 Axes>"
      ]
     },
     "metadata": {
      "needs_background": "light"
     },
     "output_type": "display_data"
    },
    {
     "data": {
      "text/plain": [
       "<Figure size 1800x720 with 0 Axes>"
      ]
     },
     "metadata": {},
     "output_type": "display_data"
    }
   ],
   "source": [
    "precision_recall_curve_plot(precisions, recalls, thresholds)"
   ]
  },
  {
   "cell_type": "code",
   "execution_count": 150,
   "metadata": {},
   "outputs": [],
   "source": [
    "def precision_recall_direct_plot(recalls, precisions):\n",
    "    plt.plot(recalls[:-1], precisions[:-1])\n",
    "    plt.xlabel('Recall')\n",
    "    plt.ylabel('Precision')\n",
    "    plt.grid()\n",
    "    plt.legend(['Recall-Precision'])\n",
    "    plt.title('Precisin - Recall Curve Directly')\n",
    "    plt.show()"
   ]
  },
  {
   "cell_type": "code",
   "execution_count": 151,
   "metadata": {
    "scrolled": true
   },
   "outputs": [
    {
     "data": {
      "image/png": "[encoded data removed]",
      "text/plain": [
       "<Figure size 432x288 with 1 Axes>"
      ]
     },
     "metadata": {
      "needs_background": "light"
     },
     "output_type": "display_data"
    }
   ],
   "source": [
    "precision_recall_direct_plot(precisions, recalls)"
   ]
  },
  {
   "cell_type": "markdown",
   "metadata": {},
   "source": [
    "### assume we want a classifier precision of >=90%\n",
    "So? what is the corresponding suitable `threshold` to follow?"
   ]
  },
  {
   "cell_type": "code",
   "execution_count": 152,
   "metadata": {},
   "outputs": [],
   "source": [
    "threshold_90_precision = thresholds[np.argmax(precisions>=0.9)] # we get the index of the first threshold value using the argmax() method that represents the  90% precision."
   ]
  },
  {
   "cell_type": "code",
   "execution_count": 153,
   "metadata": {},
   "outputs": [
    {
     "data": {
      "text/plain": [
       "3370.0194991439594"
      ]
     },
     "execution_count": 153,
     "metadata": {},
     "output_type": "execute_result"
    }
   ],
   "source": [
    "threshold_90_precision"
   ]
  },
  {
   "cell_type": "code",
   "execution_count": 158,
   "metadata": {},
   "outputs": [
    {
     "data": {
      "text/plain": [
       "array([  1200.93051237, -26883.79202424, -33072.03475406, ...,\n",
       "        13272.12718981,  -7258.47203373, -16877.50840447])"
      ]
     },
     "execution_count": 158,
     "metadata": {},
     "output_type": "execute_result"
    }
   ],
   "source": [
    "# now it's the time to make predictions based on our new extracted threshold value.\n",
    "SGD_scores"
   ]
  },
  {
   "cell_type": "code",
   "execution_count": 159,
   "metadata": {},
   "outputs": [],
   "source": [
    "y_pred = (SGD_scores>=threshold_90_precision)"
   ]
  },
  {
   "cell_type": "code",
   "execution_count": 163,
   "metadata": {},
   "outputs": [
    {
     "data": {
      "text/plain": [
       "(0.9000345901072293, 0.4799852425751706, 0.626082771896054)"
      ]
     },
     "execution_count": 163,
     "metadata": {},
     "output_type": "execute_result"
    }
   ],
   "source": [
    "precision_score(y_train_5, y_pred), recall_score(y_train_5, y_pred), f1_score(y_train_5, y_pred)"
   ]
  },
  {
   "cell_type": "markdown",
   "metadata": {},
   "source": [
    "### It's a great achievement ;) to reach our target with a 90% precision classifier,  48% recall."
   ]
  },
  {
   "cell_type": "code",
   "execution_count": 173,
   "metadata": {},
   "outputs": [
    {
     "data": {
      "text/plain": [
       "(1.0, 0.0009223390518354548, 0.0018429782528566166)"
      ]
     },
     "execution_count": 173,
     "metadata": {},
     "output_type": "execute_result"
    }
   ],
   "source": [
    "# let's consider to extract the threshold that corresponds to the .99 precision.\n",
    "\n",
    "threshold_99_precision = thresholds[np.argmax(precisions>=0.99)]\n",
    "y_pred_99 = (SGD_scores>=threshold_99_precision)\n",
    "precision_score(y_train_5, y_pred_99), recall_score(y_train_5, y_pred_99), f1_score(y_train_5, y_pred_99)"
   ]
  },
  {
   "cell_type": "code",
   "execution_count": 174,
   "metadata": {},
   "outputs": [
    {
     "data": {
      "text/plain": [
       "36801.60697028175"
      ]
     },
     "execution_count": 174,
     "metadata": {},
     "output_type": "execute_result"
    }
   ],
   "source": [
    "threshold_99_precision"
   ]
  },
  {
   "cell_type": "code",
   "execution_count": 311,
   "metadata": {},
   "outputs": [],
   "source": [
    "# now we plot the ROC:Reciever Operating Characteristic Curve for the TPR = sensitivity = Recall, FPR = 1-specificity where specificity = TNR\n",
    "from sklearn.metrics import roc_curve\n",
    "\n",
    "# we still need the classifier decision function scores not predictions to be able to plot the ROC curve.\n",
    "# roc_curve () method computes the TPR, FPR for various thresholds to be plotted.\n",
    "FPR, TPR, thresholds_ = roc_curve(y_train_5, SGD_scores)"
   ]
  },
  {
   "cell_type": "code",
   "execution_count": 245,
   "metadata": {},
   "outputs": [],
   "source": [
    "def roc_curve_plot(FPR, TPR):\n",
    "    plt.plot(FPR, TPR, 'r-', label='FPR : TPR')\n",
    "    plt.plot([0, 1], [0, 1], 'b--', label='diagonal') # plotting the diagonal of the ROC curve.\n",
    "#     plt.plot([0, 0.4], [0.4, 0.98], 'b--', label='checked:)') # plotting the diagonal of the ROC curve.\n",
    "    plt.legend()\n",
    "    plt.grid()\n",
    "    plt.xlabel('False Postive Rate')\n",
    "    plt.ylabel('True Postive Rate')\n",
    "    plt.title('ROC curve of TPRate, FPRate')\n",
    "    plt.show()"
   ]
  },
  {
   "cell_type": "markdown",
   "metadata": {},
   "source": [
    "### ROC curve was another way to evaluate and compare classifiers."
   ]
  },
  {
   "cell_type": "code",
   "execution_count": 255,
   "metadata": {},
   "outputs": [
    {
     "data": {
      "image/png": "[encoded data removed]",
      "text/plain": [
       "<Figure size 432x288 with 1 Axes>"
      ]
     },
     "metadata": {
      "needs_background": "light"
     },
     "output_type": "display_data"
    }
   ],
   "source": [
    "roc_curve_plot(FPR, TPR)"
   ]
  },
  {
   "cell_type": "code",
   "execution_count": 266,
   "metadata": {},
   "outputs": [
    {
     "data": {
      "text/plain": [
       "0.9604938554008616"
      ]
     },
     "execution_count": 266,
     "metadata": {},
     "output_type": "execute_result"
    }
   ],
   "source": [
    "# to compare classifiers with each others we need to compute the AUC Area Under the Curve: random simple classifier has\n",
    "# AUC = 0.5 = the area under the diagonal and the perfect classifier has AUC=1\n",
    "from sklearn.metrics import roc_auc_score\n",
    "\n",
    "roc_auc_score(y_train_5, SGD_scores)"
   ]
  },
  {
   "cell_type": "markdown",
   "metadata": {},
   "source": [
    "### After training our `SGDClassifier` and evaluating it's results, \n",
    "### what if we tried to traing a more advanced cllassifier, consider here the RFClassifier.\n",
    "Random Forest Classifier Ensemble Classifier."
   ]
  },
  {
   "cell_type": "code",
   "execution_count": 270,
   "metadata": {},
   "outputs": [],
   "source": [
    "from sklearn.ensemble import RandomForestClassifier\n",
    "\n",
    "model_RFC = RandomForestClassifier(random_state=42)"
   ]
  },
  {
   "cell_type": "code",
   "execution_count": 271,
   "metadata": {},
   "outputs": [
    {
     "data": {
      "text/plain": [
       "RandomForestClassifier(random_state=42)"
      ]
     },
     "execution_count": 271,
     "metadata": {},
     "output_type": "execute_result"
    }
   ],
   "source": [
    "model_RFC.fit(X_train, y_train_5)"
   ]
  },
  {
   "cell_type": "code",
   "execution_count": 291,
   "metadata": {},
   "outputs": [
    {
     "name": "stderr",
     "output_type": "stream",
     "text": [
      "[Parallel(n_jobs=1)]: Using backend SequentialBackend with 1 concurrent workers.\n",
      "[Parallel(n_jobs=1)]: Done   3 out of   3 | elapsed:  1.4min finished\n"
     ]
    }
   ],
   "source": [
    "# now we compute it's confusion matrix using it's predictions generated.\n",
    "from sklearn.model_selection import cross_val_predict\n",
    "\n",
    "RFC_pred = cross_val_predict(model_RFC, X_train, y_train_5, cv=3, method='predict_proba', verbose=1)"
   ]
  },
  {
   "cell_type": "code",
   "execution_count": 296,
   "metadata": {},
   "outputs": [
    {
     "data": {
      "text/plain": [
       "array([ True, False, False, ...,  True, False, False])"
      ]
     },
     "execution_count": 296,
     "metadata": {},
     "output_type": "execute_result"
    }
   ],
   "source": [
    "# confusion matrix\n",
    "from sklearn.metrics import confusion_matrix\n",
    "RFC_pred_ = np.zeros((RFC_pred.shape[0], ))\n",
    "for i in range(RFC_pred.shape[0]):\n",
    "    if RFC_pred[i][0] > RFC_pred[i][1]:  # in case that the -ve class has a greater sccore.\n",
    "       RFC_pred_[i] = False\n",
    "    elif RFC_pred[i][0]<=RFC_pred[i][1]:    # in case that the -ve class <= +ve class \n",
    "        RFC_pred_[i] = True\n",
    "RFC_pred_.astype(bool)"
   ]
  },
  {
   "cell_type": "code",
   "execution_count": 297,
   "metadata": {},
   "outputs": [
    {
     "data": {
      "text/plain": [
       "array([[54530,    49],\n",
       "       [  691,  4730]], dtype=int64)"
      ]
     },
     "execution_count": 297,
     "metadata": {},
     "output_type": "execute_result"
    }
   ],
   "source": [
    "confusion_matrix(y_train_5, RFC_pred_)"
   ]
  },
  {
   "cell_type": "code",
   "execution_count": 298,
   "metadata": {},
   "outputs": [
    {
     "data": {
      "text/plain": [
       "(0.9897468089558485, 0.8725327430363402, 0.9274509803921569)"
      ]
     },
     "execution_count": 298,
     "metadata": {},
     "output_type": "execute_result"
    }
   ],
   "source": [
    "from sklearn.metrics import precision_score, recall_score, f1_score\n",
    "precision_score(y_train_5, RFC_pred_), recall_score(y_train_5, RFC_pred_), f1_score(y_train_5, RFC_pred_)"
   ]
  },
  {
   "cell_type": "code",
   "execution_count": 300,
   "metadata": {},
   "outputs": [],
   "source": [
    "# to plot the Precision/Recall curve and the ROC, we need the scores which is not available in the RFClassifier.\n",
    "# so instead we will consider the probability of the prediction of the positive class as the score.\n",
    "# this s considered as a simple solution for this problem\n",
    "from sklearn.metrics import precision_recall_curve\n",
    "\n",
    "RFC_scores = RFC_pred[:, 1] # to extract only the prob of the positive class only.\n",
    "precisions_RFC, recalls_RFC, thresholds_RFC = precision_recall_curve(y_train_5, RFC_scores)"
   ]
  },
  {
   "cell_type": "code",
   "execution_count": 304,
   "metadata": {},
   "outputs": [
    {
     "data": {
      "image/png": "[encoded data removed]",
      "text/plain": [
       "<Figure size 432x288 with 1 Axes>"
      ]
     },
     "metadata": {
      "needs_background": "light"
     },
     "output_type": "display_data"
    },
    {
     "data": {
      "text/plain": [
       "<Figure size 1800x720 with 0 Axes>"
      ]
     },
     "metadata": {},
     "output_type": "display_data"
    }
   ],
   "source": [
    "### it's the time to plot the precision/recall Versus the threshold curve\n",
    "precision_recall_curve_plot(precisions_RFC, recalls_RFC, thresholds_RFC)"
   ]
  },
  {
   "cell_type": "markdown",
   "metadata": {},
   "source": [
    "#### Our new classifier RFclassifier has now,  a better precision and recall than the pevious SGDClassifier."
   ]
  },
  {
   "cell_type": "code",
   "execution_count": 305,
   "metadata": {},
   "outputs": [
    {
     "data": {
      "image/png": "[encoded data removed]",
      "text/plain": [
       "<Figure size 432x288 with 1 Axes>"
      ]
     },
     "metadata": {
      "needs_background": "light"
     },
     "output_type": "display_data"
    }
   ],
   "source": [
    "# plot the Precision/Recall directly.\n",
    "precision_recall_direct_plot(recalls_RFC, precisions_RFC)"
   ]
  },
  {
   "cell_type": "code",
   "execution_count": 310,
   "metadata": {},
   "outputs": [
    {
     "data": {
      "image/png": "[encoded data removed]",
      "text/plain": [
       "<Figure size 432x288 with 1 Axes>"
      ]
     },
     "metadata": {
      "needs_background": "light"
     },
     "output_type": "display_data"
    }
   ],
   "source": [
    "# plot the ROC to investigate the classifier performance with respect to the recall and the false positive rates\n",
    "from sklearn.metrics import roc_curve\n",
    "\n",
    "FPR_, TPR_, thresholds_RFC_ = roc_curve(y_train_5, RFC_scores)\n",
    "roc_curve_plot(FPR, TPR)"
   ]
  },
  {
   "cell_type": "markdown",
   "metadata": {},
   "source": [
    "####  Now we have a perfect binary classifier based on the RandomForestClassifier with precision ~100%"
   ]
  },
  {
   "cell_type": "code",
   "execution_count": 309,
   "metadata": {},
   "outputs": [
    {
     "data": {
      "text/plain": [
       "0.9983436731328145"
      ]
     },
     "execution_count": 309,
     "metadata": {},
     "output_type": "execute_result"
    }
   ],
   "source": [
    "# ROC AUC:Area Under The Curve. ~ 100%\n",
    "from sklearn.metrics import roc_auc_score\n",
    "\n",
    "roc_auc_score(y_train_5, RFC_scores)"
   ]
  },
  {
   "cell_type": "code",
   "execution_count": 316,
   "metadata": {},
   "outputs": [],
   "source": [
    "def plot_SGD_RFC_ROC_curve(FPR, FPR_, TPR, TPR_):\n",
    "    plt.plot(FPR, TPR, 'b-', label='SGD ROC')\n",
    "    plt.plot(FPR_, TPR_, 'r--', label='RFC ROC')\n",
    "    plt.plot([0, 1], [0, 1], 'k--', label='simple random classifier')\n",
    "    plt.legend()\n",
    "    plt.grid()\n",
    "    plt.xlabel('False Positive Rate')\n",
    "    plt.ylabel('True Postive Rate')\n",
    "    plt.title('Compare ROC for both the SGD | RFC:')\n",
    "    plt.show()"
   ]
  },
  {
   "cell_type": "markdown",
   "metadata": {},
   "source": [
    "###  It's obvious that the AUC(Area under the curve) of RFClassifier is greater than that of the SGD Classifier."
   ]
  },
  {
   "cell_type": "code",
   "execution_count": 317,
   "metadata": {},
   "outputs": [
    {
     "data": {
      "image/png": "[encoded data removed]",
      "text/plain": [
       "<Figure size 432x288 with 1 Axes>"
      ]
     },
     "metadata": {
      "needs_background": "light"
     },
     "output_type": "display_data"
    }
   ],
   "source": [
    "# Plotting the ROC for both the SGD, RFClassifier ROC for comparison.\n",
    "plot_SGD_RFC_ROC_curve(FPR, FPR_, TPR, TPR_)"
   ]
  },
  {
   "cell_type": "markdown",
   "metadata": {},
   "source": [
    "### Multi-class task."
   ]
  },
  {
   "cell_type": "code",
   "execution_count": 420,
   "metadata": {
    "collapsed": true
   },
   "outputs": [
    {
     "data": {
      "text/plain": [
       "array([[0.02, 0.98]])"
      ]
     },
     "execution_count": 420,
     "metadata": {},
     "output_type": "execute_result"
    }
   ],
   "source": [
    "model_RFC.predict_proba([X_train[0]])"
   ]
  },
  {
   "cell_type": "code",
   "execution_count": 419,
   "metadata": {
    "scrolled": false
   },
   "outputs": [
    {
     "data": {
      "text/plain": [
       "<matplotlib.image.AxesImage at 0x1528958c3a0>"
      ]
     },
     "execution_count": 419,
     "metadata": {},
     "output_type": "execute_result"
    },
    {
     "data": {
      "image/png": "[encoded data removed]",
      "text/plain": [
       "<Figure size 432x288 with 1 Axes>"
      ]
     },
     "metadata": {
      "needs_background": "light"
     },
     "output_type": "display_data"
    }
   ],
   "source": [
    "plt.imshow(np.reshape(X_train[0], (28, 28)), cmap=mpl.cm.binary,interpolation='nearest' )"
   ]
  },
  {
   "cell_type": "code",
   "execution_count": 417,
   "metadata": {},
   "outputs": [
    {
     "data": {
      "text/plain": [
       "SGDClassifier(random_state=42)"
      ]
     },
     "execution_count": 417,
     "metadata": {},
     "output_type": "execute_result"
    }
   ],
   "source": [
    "model_SGD = SGDClassifier(random_state=42)\n",
    "model_SGD.fit(X_train, y_train) # multi-class classification task so sklearn algorithm automatically implements an OvO strategy\n",
    "                                # OvO: One-Versus-All strategy to implement the model so it creates multiple binary classifiers per each pair of classes.mo"
   ]
  },
  {
   "cell_type": "code",
   "execution_count": 418,
   "metadata": {},
   "outputs": [
    {
     "data": {
      "text/plain": [
       "array([3], dtype=uint8)"
      ]
     },
     "execution_count": 418,
     "metadata": {},
     "output_type": "execute_result"
    }
   ],
   "source": [
    "model_SGD.predict([X[0]]) # let's try some value to be predicted."
   ]
  },
  {
   "cell_type": "markdown",
   "metadata": {},
   "source": [
    "Sklearn library automatically detects that you are implementing a multi-class classification task\n",
    "through the training labels included so that it implements the OvA strategy for classification in which we train a binary classifier per each class and during the testing with a certain example(image) the library selects the class label of the highest score related with it's classifier.\n",
    "On the other hand, SVMClassifier is having a poor performance with large data so sklearn implements a OvO strategy instead in this case so that we create a classifier per each pair of classes and during the testing we select the class that won all duals(المبارزات) within all classifiers."
   ]
  },
  {
   "cell_type": "markdown",
   "metadata": {},
   "source": [
    "`One-Versus-One strategy`: OvO: classifier per each pair of classes: implemented with SVMClassifiers\n",
    "`One-Versus-All strategy`: OvA: classifier per each class: implemented with all other clssifiers"
   ]
  },
  {
   "cell_type": "code",
   "execution_count": 367,
   "metadata": {},
   "outputs": [],
   "source": [
    "# it's the time now to evaluate our classifier performance using the confusion matrix.\n",
    "SGD_muli_pred = cross_val_predict(model_SGD, X_train, y_train, cv=3) # SGD has the ability to get the predictions directly"
   ]
  },
  {
   "cell_type": "code",
   "execution_count": 369,
   "metadata": {},
   "outputs": [
    {
     "data": {
      "text/plain": [
       "array([5, 0, 4, ..., 5, 6, 8], dtype=uint8)"
      ]
     },
     "execution_count": 369,
     "metadata": {},
     "output_type": "execute_result"
    }
   ],
   "source": [
    "SGD_muli_pred"
   ]
  },
  {
   "cell_type": "code",
   "execution_count": 370,
   "metadata": {},
   "outputs": [
    {
     "data": {
      "text/plain": [
       "array([[5363,    0,   40,  131,    6,   98,   16,    7,  261,    1],\n",
       "       [   1, 6482,   16,   74,    1,   10,    8,    8,  136,    6],\n",
       "       [   5,   58, 4903,  292,   37,   30,   31,   48,  537,   17],\n",
       "       [   3,    6,   65, 5637,    3,  120,    5,   19,  223,   50],\n",
       "       [  14,   23,   32,   74, 4650,   50,   18,   40,  361,  580],\n",
       "       [  17,    4,   31,  422,   32, 4318,   72,   31,  429,   65],\n",
       "       [  15,    4,   61,   44,   25,   91, 5390,    3,  281,    4],\n",
       "       [   3,    9,   49,  100,   22,   19,    2, 5671,  122,  268],\n",
       "       [  13,   39,   28,  223,    6,  214,   13,   12, 5249,   54],\n",
       "       [  10,    7,   20,  209,   46,   50,    0,  162,  262, 5183]],\n",
       "      dtype=int64)"
      ]
     },
     "execution_count": 370,
     "metadata": {},
     "output_type": "execute_result"
    }
   ],
   "source": [
    "confusion_matrix(y_train, SGD_multi_pred) # in case of the multi-class task we don't depend on the confusion matrix."
   ]
  },
  {
   "cell_type": "code",
   "execution_count": 377,
   "metadata": {},
   "outputs": [],
   "source": [
    "# by default, sklearn implements OvA strategy for all classifiers except the SVM classifier.\n",
    "# so if you want to force a certain classifier of OvA -> to be using OvO , do the following:\n",
    "from sklearn.multiclass import OneVsOneClassifier\n",
    "\n",
    "model_SGD = SGDClassifier(random_state=42)\n",
    "model_SGD_OvO = OneVsOneClassifier(model_SGD) # we created a SGDClassifier() that implements the logic of the OneVersusOne strategy."
   ]
  },
  {
   "cell_type": "code",
   "execution_count": null,
   "metadata": {},
   "outputs": [],
   "source": [
    "model_SGD_OvO.fit(X_train, y_train)"
   ]
  },
  {
   "cell_type": "code",
   "execution_count": 381,
   "metadata": {},
   "outputs": [
    {
     "data": {
      "text/plain": [
       "45"
      ]
     },
     "execution_count": 381,
     "metadata": {},
     "output_type": "execute_result"
    }
   ],
   "source": [
    "len(model_SGD_OvO.estimators_) # we need N*(N-1)/2 estimators to implement the OvO startegy i.e. N=no_classes, 10(9)/2 = 45."
   ]
  },
  {
   "cell_type": "code",
   "execution_count": 388,
   "metadata": {},
   "outputs": [
    {
     "data": {
      "text/plain": [
       "array([3], dtype=uint8)"
      ]
     },
     "execution_count": 388,
     "metadata": {},
     "output_type": "execute_result"
    }
   ],
   "source": [
    "model_SGD.predict([X_train[0]])"
   ]
  },
  {
   "cell_type": "code",
   "execution_count": 389,
   "metadata": {},
   "outputs": [],
   "source": [
    "from sklearn.preprocessing import StandardScaler # scaling the input training dataset may improve the classifier performance\n",
    "\n",
    "scale_estim = StandardScaler()"
   ]
  },
  {
   "cell_type": "code",
   "execution_count": 390,
   "metadata": {},
   "outputs": [],
   "source": [
    "X_train_scaled = scale_estim.fit_transform(X_train)"
   ]
  },
  {
   "cell_type": "code",
   "execution_count": 394,
   "metadata": {},
   "outputs": [
    {
     "data": {
      "text/plain": [
       "array([7], dtype=uint8)"
      ]
     },
     "execution_count": 394,
     "metadata": {},
     "output_type": "execute_result"
    }
   ],
   "source": [
    "model_SGD.fit(X_train_scaled, y_train)\n",
    "model_SGD.predict([X_test[0]])"
   ]
  },
  {
   "cell_type": "code",
   "execution_count": 393,
   "metadata": {},
   "outputs": [
    {
     "data": {
      "text/plain": [
       "7"
      ]
     },
     "execution_count": 393,
     "metadata": {},
     "output_type": "execute_result"
    }
   ],
   "source": [
    "y_test[0]"
   ]
  },
  {
   "cell_type": "code",
   "execution_count": 395,
   "metadata": {},
   "outputs": [
    {
     "data": {
      "text/plain": [
       "array([[5584,    0,   11,    6,    6,   24,   27,    3,  262,    0],\n",
       "       [   0, 6419,   39,   14,    3,   41,    4,    4,  214,    4],\n",
       "       [  17,   21, 5287,   67,   59,   19,   48,   34,  402,    4],\n",
       "       [  20,   13,   95, 5238,    0,  150,   21,   36,  505,   53],\n",
       "       [   9,   12,   29,    8, 5245,    6,   26,   13,  384,  110],\n",
       "       [  21,   15,   21,  127,   45, 4469,   66,   11,  594,   52],\n",
       "       [  25,   15,   37,    2,   31,   73, 5566,    6,  163,    0],\n",
       "       [  18,    9,   43,   13,   37,   12,    4, 5724,  250,  155],\n",
       "       [  12,   52,   33,   83,    2,  101,   24,    4, 5509,   31],\n",
       "       [  19,   18,   25,   51,  102,   25,    1,  147,  517, 5044]],\n",
       "      dtype=int64)"
      ]
     },
     "execution_count": 395,
     "metadata": {},
     "output_type": "execute_result"
    }
   ],
   "source": [
    "predicti_ = model_SGD.predict(X_train_scaled)\n",
    "confusion_matrix(y_train, predicti_)"
   ]
  },
  {
   "cell_type": "code",
   "execution_count": 396,
   "metadata": {},
   "outputs": [
    {
     "data": {
      "text/plain": [
       "<matplotlib.image.AxesImage at 0x15289c128b0>"
      ]
     },
     "execution_count": 396,
     "metadata": {},
     "output_type": "execute_result"
    },
    {
     "data": {
      "image/png": "[encoded data removed]",
      "text/plain": [
       "<Figure size 288x288 with 1 Axes>"
      ]
     },
     "metadata": {
      "needs_background": "light"
     },
     "output_type": "display_data"
    }
   ],
   "source": [
    "plt.matshow(confusion_matrix(y_train, predicti_), cmap = plt.cm.gray) # to show the confusion matrix clearly."
   ]
  },
  {
   "cell_type": "code",
   "execution_count": 397,
   "metadata": {},
   "outputs": [],
   "source": [
    "# to evaluate the SGDClassifier multi-class, we will depend on the accuracy as a performance measure\n",
    "from sklearn.model_selection import cross_val_score\n",
    "\n",
    "SGD_accuracy_3_cv = cross_val_score(model_SGD, X_train_scaled, y_train, cv=3, scoring='accuracy')"
   ]
  },
  {
   "cell_type": "code",
   "execution_count": 400,
   "metadata": {},
   "outputs": [
    {
     "data": {
      "text/plain": [
       "array([0.8983, 0.891 , 0.9018])"
      ]
     },
     "execution_count": 400,
     "metadata": {},
     "output_type": "execute_result"
    }
   ],
   "source": [
    "SGD_accuracy_3_cv"
   ]
  },
  {
   "cell_type": "markdown",
   "metadata": {},
   "source": [
    "### Error Analysis using the confusion matrix"
   ]
  },
  {
   "cell_type": "markdown",
   "metadata": {},
   "source": [
    "after plotting the matshow() of the confusion matrix, we realized that class-5 has a slightly darker light than other classes which means that some images in this class are mis-classified as 5 or the no. of 5s in the dataset is lower than other classes."
   ]
  },
  {
   "cell_type": "code",
   "execution_count": 401,
   "metadata": {},
   "outputs": [],
   "source": [
    "# let's get the confusion matrix normalized for error analysis investigation.\n",
    "conf_mat = confusion_matrix(y_train, predicti_)"
   ]
  },
  {
   "cell_type": "code",
   "execution_count": 404,
   "metadata": {},
   "outputs": [],
   "source": [
    "conf_col_sum = conf_mat.sum(axis=1, keepdims=True)"
   ]
  },
  {
   "cell_type": "code",
   "execution_count": 414,
   "metadata": {},
   "outputs": [],
   "source": [
    "conf_norm = conf_mat/conf_col_sum\n",
    "np.fill_diagonal(conf_norm, 0) # fill the normalized confusion matrix main diagonal with zeros to be able to detect errors easily."
   ]
  },
  {
   "cell_type": "code",
   "execution_count": 415,
   "metadata": {},
   "outputs": [
    {
     "data": {
      "image/png": "[encoded data removed]",
      "text/plain": [
       "<Figure size 288x288 with 1 Axes>"
      ]
     },
     "metadata": {
      "needs_background": "light"
     },
     "output_type": "display_data"
    }
   ],
   "source": [
    "plt.matshow(conf_norm, cmap=mpl.cm.gray)\n",
    "plt.show()"
   ]
  },
  {
   "cell_type": "code",
   "execution_count": 416,
   "metadata": {},
   "outputs": [],
   "source": [
    "## we can see that there is any error between classes 3, 5 in addition that many classes were classified as class-8 especially with class-5"
   ]
  },
  {
   "cell_type": "markdown",
   "metadata": {},
   "source": [
    "### Multi-label classification task"
   ]
  },
  {
   "cell_type": "code",
   "execution_count": 421,
   "metadata": {},
   "outputs": [],
   "source": [
    "from sklearn.neighbors import KNeighborsClassifier\n",
    "\n",
    "model_KNN = KNeighborsClassifier() # consider that the number of neighbours for classification is defaulted."
   ]
  },
  {
   "cell_type": "code",
   "execution_count": 428,
   "metadata": {},
   "outputs": [],
   "source": [
    "# create the multi-label for the classification task\n",
    "y_7_to_9 = (y_train>=7)    # extract values from 7-9 only otherwise to be false.\n",
    "y_odd = (y_train % 2 == 1) # extract the odd values only.\n",
    "y_multi_labels = np.c_[y_7_to_9, y_odd]"
   ]
  },
  {
   "cell_type": "code",
   "execution_count": 430,
   "metadata": {},
   "outputs": [
    {
     "data": {
      "text/plain": [
       "array([[False,  True],\n",
       "       [False, False],\n",
       "       [False, False],\n",
       "       ...,\n",
       "       [False,  True],\n",
       "       [False, False],\n",
       "       [ True, False]])"
      ]
     },
     "execution_count": 430,
     "metadata": {},
     "output_type": "execute_result"
    }
   ],
   "source": [
    "y_multi_labels # so we could build the labels for 2 classes: for the values from 7-9 & the other for the odd values only."
   ]
  },
  {
   "cell_type": "markdown",
   "metadata": {},
   "source": [
    "### in this case of the multi-label classification, the classifier will learn to classifiy 2 separated classes independently.\n",
    "\n",
    "It can be considered as multi-level of binary cassification task."
   ]
  },
  {
   "cell_type": "code",
   "execution_count": 431,
   "metadata": {},
   "outputs": [
    {
     "data": {
      "text/plain": [
       "KNeighborsClassifier()"
      ]
     },
     "execution_count": 431,
     "metadata": {},
     "output_type": "execute_result"
    }
   ],
   "source": [
    "model_KNN.fit(X_train, y_multi_labels)"
   ]
  },
  {
   "cell_type": "code",
   "execution_count": 432,
   "metadata": {},
   "outputs": [
    {
     "data": {
      "text/plain": [
       "array([[False,  True]])"
      ]
     },
     "execution_count": 432,
     "metadata": {},
     "output_type": "execute_result"
    }
   ],
   "source": [
    "# consider the evaluation of a single instance classification.\n",
    "model_KNN.predict([X_train[0]])"
   ]
  },
  {
   "cell_type": "markdown",
   "metadata": {},
   "source": [
    "### compute the classifier predictions\n",
    "### `instance-based classifier` so it has no decision function"
   ]
  },
  {
   "cell_type": "code",
   "execution_count": 433,
   "metadata": {},
   "outputs": [],
   "source": [
    "KNN_pred = cross_val_predict(model_KNN, X_train, y_multi_labels, cv=2)"
   ]
  },
  {
   "cell_type": "code",
   "execution_count": null,
   "metadata": {},
   "outputs": [],
   "source": [
    "KNN_pred"
   ]
  },
  {
   "cell_type": "markdown",
   "metadata": {},
   "source": [
    "### task02: Exercises"
   ]
  },
  {
   "cell_type": "code",
   "execution_count": 10,
   "metadata": {},
   "outputs": [],
   "source": [
    "# trying to build a classifier of accuracy > 97% on MNIST test dataset using the KNNClassifier.\n",
    "from sklearn.naive_bayes import GaussianNB\n",
    "model_NBC = GaussianNB()"
   ]
  },
  {
   "cell_type": "code",
   "execution_count": 11,
   "metadata": {},
   "outputs": [
    {
     "data": {
      "text/plain": [
       "GaussianNB()"
      ]
     },
     "execution_count": 11,
     "metadata": {},
     "output_type": "execute_result"
    }
   ],
   "source": [
    "model_NBC.fit(X_train, y_train)"
   ]
  },
  {
   "cell_type": "code",
   "execution_count": 18,
   "metadata": {},
   "outputs": [],
   "source": [
    "# evaluate the classifier on the training dataset\n",
    "NBC_pred = model_NBC.predict([X_train[59998]])"
   ]
  },
  {
   "cell_type": "code",
   "execution_count": 19,
   "metadata": {},
   "outputs": [
    {
     "data": {
      "text/plain": [
       "array([6], dtype=uint8)"
      ]
     },
     "execution_count": 19,
     "metadata": {},
     "output_type": "execute_result"
    }
   ],
   "source": [
    "NBC_pred"
   ]
  },
  {
   "cell_type": "code",
   "execution_count": 21,
   "metadata": {},
   "outputs": [
    {
     "data": {
      "text/plain": [
       "array([0.5592, 0.5603, 0.5572])"
      ]
     },
     "execution_count": 21,
     "metadata": {},
     "output_type": "execute_result"
    }
   ],
   "source": [
    "from sklearn.model_selection import cross_val_score\n",
    "NBC_accu = cross_val_score(model_NBC, X_train, y_train, cv=3, scoring='accuracy')\n",
    "NBC_accu"
   ]
  },
  {
   "cell_type": "code",
   "execution_count": 22,
   "metadata": {},
   "outputs": [],
   "source": [
    "pred = model_NBC.predict(X_test)"
   ]
  },
  {
   "cell_type": "code",
   "execution_count": 23,
   "metadata": {},
   "outputs": [],
   "source": [
    "from sklearn.metrics import accuracy_score\n",
    "score = accuracy_score(y_test, pred)"
   ]
  },
  {
   "cell_type": "code",
   "execution_count": 24,
   "metadata": {},
   "outputs": [
    {
     "data": {
      "text/plain": [
       "0.5558"
      ]
     },
     "execution_count": 24,
     "metadata": {},
     "output_type": "execute_result"
    }
   ],
   "source": [
    "score"
   ]
  },
  {
   "cell_type": "code",
   "execution_count": 25,
   "metadata": {},
   "outputs": [],
   "source": [
    "from sklearn.neighbors import KNeighborsClassifier\n",
    "model_KNN = KNeighborsClassifier()"
   ]
  },
  {
   "cell_type": "code",
   "execution_count": 26,
   "metadata": {},
   "outputs": [
    {
     "data": {
      "text/plain": [
       "KNeighborsClassifier()"
      ]
     },
     "execution_count": 26,
     "metadata": {},
     "output_type": "execute_result"
    }
   ],
   "source": [
    "model_KNN.fit(X_train, y_train)"
   ]
  },
  {
   "cell_type": "code",
   "execution_count": 27,
   "metadata": {},
   "outputs": [],
   "source": [
    "pred_KNN = model_KNN.predict(X_test)"
   ]
  },
  {
   "cell_type": "code",
   "execution_count": 28,
   "metadata": {},
   "outputs": [
    {
     "data": {
      "text/plain": [
       "0.9688"
      ]
     },
     "execution_count": 28,
     "metadata": {},
     "output_type": "execute_result"
    }
   ],
   "source": [
    "accuracy_score(y_test, pred_KNN)"
   ]
  },
  {
   "cell_type": "code",
   "execution_count": 29,
   "metadata": {},
   "outputs": [],
   "source": [
    "from scipy.ndimage.interpolation import shift # to shift our images"
   ]
  },
  {
   "cell_type": "code",
   "execution_count": 31,
   "metadata": {},
   "outputs": [],
   "source": [
    "def shift_image(image, dx, dy):\n",
    "    reshaped_img = np.reshape(image, (28, 28)) # to generate a 2d version of the input image.\n",
    "    reshaped_img = shift(reshaped_img, shift=[dx, dy])\n",
    "    return reshaped_img.reshape([-1])"
   ]
  },
  {
   "cell_type": "code",
   "execution_count": 32,
   "metadata": {},
   "outputs": [],
   "source": [
    "# to improve the accuracy through the data augmentation.\n",
    "# i.e. to increase the training dataset especially the MNIST handwritten by creating new versions of the images that are shifted by fo example one pixel in all possible directions.\n",
    "X_train_augmented = [image for image in X_train]\n",
    "y_train_augmented = [label for label in y_train]\n",
    "\n",
    "for dx, dy in ((1, 0), (-1, 0), (0, 1), (0, -1)): # to determine the direction of shifting by one pixel in all directions.\n",
    "    for image, label in zip(X_train, y_train):\n",
    "        shifted_image = shift_image(image, dx, dy)\n",
    "        X_train_augmented.append(shifted_image)\n",
    "        y_train_augmented.append(label)"
   ]
  },
  {
   "cell_type": "code",
   "execution_count": null,
   "metadata": {},
   "outputs": [],
   "source": [
    "X_train_augmented = np.array(X_train_augmented)\n",
    "y_train_augmented = np.array(y_train_augmented)"
   ]
  },
  {
   "cell_type": "code",
   "execution_count": 38,
   "metadata": {},
   "outputs": [
    {
     "data": {
      "text/plain": [
       "(300000, 784)"
      ]
     },
     "execution_count": 38,
     "metadata": {},
     "output_type": "execute_result"
    }
   ],
   "source": [
    "X_train_augmented.shape"
   ]
  },
  {
   "cell_type": "code",
   "execution_count": 39,
   "metadata": {},
   "outputs": [],
   "source": [
    "x_ = [X_train]"
   ]
  },
  {
   "cell_type": "code",
   "execution_count": 42,
   "metadata": {},
   "outputs": [],
   "source": [
    "x_ = [i for i in X_train]"
   ]
  },
  {
   "cell_type": "code",
   "execution_count": null,
   "metadata": {},
   "outputs": [],
   "source": []
  }
 ],
 "metadata": {
  "kernelspec": {
   "display_name": "Python [conda env:root] *",
   "language": "python",
   "name": "conda-root-py"
  },
  "language_info": {
   "codemirror_mode": {
    "name": "ipython",
    "version": 3
   },
   "file_extension": ".py",
   "mimetype": "text/x-python",
   "name": "python",
   "nbconvert_exporter": "python",
   "pygments_lexer": "ipython3",
   "version": "3.8.3"
  }
 },
 "nbformat": 4,
 "nbformat_minor": 4
}
